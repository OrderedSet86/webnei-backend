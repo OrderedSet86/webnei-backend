{
 "cells": [
  {
   "cell_type": "code",
   "execution_count": 64,
   "metadata": {},
   "outputs": [],
   "source": [
    "import psycopg2\n",
    "import timeit\n",
    "from timeit import Timer\n",
    "from sqlalchemy import select, create_engine, inspect\n",
    "from sqlalchemy.orm import sessionmaker\n",
    "from sqlalchemy.dialects import postgresql\n",
    "\n",
    "import load_env\n",
    "from src.graphql.core.config import settings\n",
    "import src.graphql.models.recipe_models_autogen as rma"
   ]
  },
  {
   "cell_type": "code",
   "execution_count": 41,
   "metadata": {},
   "outputs": [],
   "source": [
    "def constructQuery(recipe_id: str):\n",
    "    stmt = select(rma.Item, rma.RecipeItemGroup.item_inputs_key, rma.ItemGroupItemStacks.item_stacks_stack_size) \\\n",
    "        .join(rma.ItemGroupItemStacks, rma.ItemGroupItemStacks.item_stacks_item_id == rma.Item.id) \\\n",
    "        .join(rma.RecipeItemGroup, rma.RecipeItemGroup.item_inputs_id == rma.ItemGroupItemStacks.item_group_id) \\\n",
    "        .filter(rma.RecipeItemGroup.recipe_id == recipe_id)\n",
    "    return stmt\n",
    "\n",
    "\n",
    "def constructQueryWithCompilation(recipe_id: str):\n",
    "    stmt = constructQuery(recipe_id)\n",
    "    compiled_query = stmt.compile(\n",
    "        dialect=postgresql.dialect(),\n",
    "        compile_kwargs={\"literal_binds\": True},\n",
    "    )\n",
    "    query_str = str(compiled_query).replace(\":\", \"%\")\n",
    "    params = tuple(compiled_query.params.values())\n",
    "    return query_str, params\n",
    "\n",
    "\n",
    "def makeSQLASession():\n",
    "    engine = create_engine(\n",
    "        f\"postgresql://{settings.POSTGRES_USER}:{settings.POSTGRES_PASSWORD}@{settings.POSTGRES_SERVER}:{settings.POSTGRES_PORT}/{settings.POSTGRES_DB}\",\n",
    "        pool_size=30,  # Set the number of connections to maintain in the pool\n",
    "        max_overflow=0,  # Set the maximum overflow size of the pool\n",
    "    )\n",
    "    session_maker = sessionmaker(\n",
    "        bind=engine,\n",
    "        expire_on_commit=False,\n",
    "        autocommit=False,\n",
    "        autoflush=False,\n",
    "    )\n",
    "    session = session_maker()\n",
    "    return session\n",
    "\n",
    "\n",
    "def runSQLA(stmt, session):\n",
    "    result = session.execute(stmt).all()\n",
    "    return result\n",
    "\n",
    "\n",
    "def createPsyConnection():\n",
    "    return psycopg2.connect(\n",
    "        host=settings.HOST_URL,\n",
    "        port=settings.POSTGRES_PORT,\n",
    "        database=settings.POSTGRES_DB,\n",
    "        user=settings.POSTGRES_USER,\n",
    "        password=settings.POSTGRES_PASSWORD,\n",
    "    )\n",
    "\n",
    "\n",
    "def createPsyCursor(connection):\n",
    "    return connection.cursor()\n",
    "\n",
    "\n",
    "def runPsy(cursor, query_str, params):\n",
    "    cursor.execute(query_str, params)\n",
    "    return cursor.fetchall()\n",
    "\n"
   ]
  },
  {
   "cell_type": "code",
   "execution_count": 46,
   "metadata": {},
   "outputs": [
    {
     "name": "stdout",
     "output_type": "stream",
     "text": [
      "SQLAlchemy: 5.558451937000427\n",
      "Psycopg2: 4.752735991000009\n"
     ]
    }
   ],
   "source": [
    "sqla_timer = Timer('runSQLA(query, session)', \"\"\"\n",
    "from __main__ import runSQLA, constructQuery, makeSQLASession;\n",
    "recipe_id=\"r~--eEYPHsN5GqWygrEHan4A==\";\n",
    "query=constructQuery(recipe_id);\n",
    "session=makeSQLASession();\n",
    "\"\"\")\n",
    "print(f'SQLAlchemy: {sqla_timer.timeit(10000)}')\n",
    "psy_timer = Timer('runPsy(cursor, query_str, params)', \"\"\"\n",
    "from __main__ import runPsy, constructQueryWithCompilation, createPsyConnection, createPsyCursor;\n",
    "recipe_id=\"r~--eEYPHsN5GqWygrEHan4A==\";\n",
    "query_str, params=constructQueryWithCompilation(recipe_id);\n",
    "connection=createPsyConnection();\n",
    "cursor=createPsyCursor(connection);\n",
    "\"\"\")\n",
    "print(f'Psycopg2: {psy_timer.timeit(10000)}')"
   ]
  },
  {
   "cell_type": "code",
   "execution_count": 68,
   "metadata": {},
   "outputs": [
    {
     "name": "stdout",
     "output_type": "stream",
     "text": [
      "[NEI_Item(id='i~gregtech~gt.metaitem.01~23355', item_id=7197, position=1, stack_size=0, image_file_path='item/gregtech/gt.metaitem.01~23355.png', internal_name='gt.metaitem.01', item_damage=23355, localized_name='Magnetic Steel Rod', max_damage=0, max_stack_size=64, mod_id='gregtech', nbt='', tooltip='Magnetic Steel Rod (#7197/23355)\\\\u000agregtech:gt.metaitem.01\\\\u000aFe\\\\u2085\\\\u2080C', unlocalized_name='gt.metaitem.01.23355', input=True, output_probability=-1.0), NEI_Item(id='i~gregtech~gt.metaitem.01~23019', item_id=7197, position=1, stack_size=1, image_file_path='item/gregtech/gt.metaitem.01~23019.png', internal_name='gt.metaitem.01', item_damage=23019, localized_name='Aluminium Rod', max_damage=0, max_stack_size=64, mod_id='gregtech', nbt='', tooltip='Aluminium Rod (#7197/23019)\\\\u000agregtech:gt.metaitem.01\\\\u000aAl', unlocalized_name='gt.metaitem.01.23019', input=True, output_probability=-1.0), NEI_Item(id='i~gregtech~gt.blockmachines~1341', item_id=2086, position=4, stack_size=2, image_file_path='item/gregtech/gt.blockmachines~1341.png', internal_name='gt.blockmachines', item_damage=1341, localized_name='2x Cupronickel Wire', max_damage=0, max_stack_size=64, mod_id='gregtech', nbt='', tooltip='2x Cupronickel Wire (#2086/1341)\\\\u000agregtech:gt.blockmachines\\\\u000aMax Voltage:  128 (MV)\\\\u000aMax Amperage:  4\\\\u000aLoss/Meter/Ampere:  6 EU-Volt', unlocalized_name='gt.blockmachines.wire.cupronickel.02', input=True, output_probability=-1.0), NEI_Item(id='i~gregtech~gt.blockmachines~1366', item_id=2086, position=2, stack_size=3, image_file_path='item/gregtech/gt.blockmachines~1366.png', internal_name='gt.blockmachines', item_damage=1366, localized_name='1x Copper Cable', max_damage=0, max_stack_size=64, mod_id='gregtech', nbt='', tooltip='1x Copper Cable (#2086/1366)\\\\u000agregtech:gt.blockmachines\\\\u000aMax Voltage:  128 (MV)\\\\u000aMax Amperage:  1\\\\u000aLoss/Meter/Ampere:  2 EU-Volt', unlocalized_name='gt.blockmachines.cable.copper.01', input=True, output_probability=-1.0)]\n"
     ]
    }
   ],
   "source": [
    "from src.graphql.scalars.recipe_scalar import NEI_Item\n",
    "\n",
    "def getQueryStrAndParams(stmt):\n",
    "    compiled_query = stmt.compile(\n",
    "        dialect=postgresql.dialect(),\n",
    "        compile_kwargs={\"literal_binds\": True},\n",
    "    )\n",
    "    query_str = str(compiled_query).replace(\":\", \"%\")\n",
    "    params = tuple(compiled_query.params.values())\n",
    "    return query_str, params\n",
    "\n",
    "stmt = select(rma.Item, rma.RecipeItemGroup.item_inputs_key, rma.ItemGroupItemStacks.item_stacks_stack_size) \\\n",
    "    .join(rma.ItemGroupItemStacks, rma.ItemGroupItemStacks.item_stacks_item_id == rma.Item.id) \\\n",
    "    .join(rma.RecipeItemGroup, rma.RecipeItemGroup.item_inputs_id == rma.ItemGroupItemStacks.item_group_id) \\\n",
    "    .filter(rma.RecipeItemGroup.recipe_id == 'r~--eEYPHsN5GqWygrEHan4A==')\n",
    "query_str, params = getQueryStrAndParams(stmt)\n",
    "connection = createPsyConnection()\n",
    "cursor = createPsyCursor(connection)\n",
    "results = runPsy(cursor, query_str, params)\n",
    "\n",
    "def constructDictFromORM(\n",
    "        results,\n",
    "        orm_object,\n",
    "        suffix_keys,\n",
    "        include={},\n",
    "        exclude=[],\n",
    "        rename={},\n",
    "    ):\n",
    "    column_names = [c_attr.key for c_attr in inspect(orm_object).mapper.column_attrs]\n",
    "    column_names.extend(suffix_keys)\n",
    "    \n",
    "    dictionaries = []\n",
    "    for result in results:\n",
    "        d = dict(zip(column_names, result))\n",
    "        d.update(include)\n",
    "        for key in exclude:\n",
    "            d.pop(key)\n",
    "        for key, value in rename.items():\n",
    "            d[value] = d.pop(key)\n",
    "\n",
    "        dictionaries.append(d)\n",
    "    \n",
    "    return dictionaries\n",
    "\n",
    "d = constructDictFromORM(results, rma.Item, ['stack_size', 'position'], {'input': True})\n",
    "item_inputs = [NEI_Item(**item) for item in d]\n",
    "print(item_inputs)"
   ]
  },
  {
   "cell_type": "code",
   "execution_count": null,
   "metadata": {},
   "outputs": [],
   "source": []
  }
 ],
 "metadata": {
  "kernelspec": {
   "display_name": "webnei-backend-kGeD7cND",
   "language": "python",
   "name": "python3"
  },
  "language_info": {
   "codemirror_mode": {
    "name": "ipython",
    "version": 3
   },
   "file_extension": ".py",
   "mimetype": "text/x-python",
   "name": "python",
   "nbconvert_exporter": "python",
   "pygments_lexer": "ipython3",
   "version": "3.11.0"
  },
  "orig_nbformat": 4
 },
 "nbformat": 4,
 "nbformat_minor": 2
}
