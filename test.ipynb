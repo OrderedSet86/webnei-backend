{
 "cells": [
  {
   "cell_type": "code",
   "execution_count": 2,
   "metadata": {},
   "outputs": [],
   "source": [
    "import load_env\n",
    "import src.graphql.models.recipe_models_autogen as rma\n",
    "from sqlalchemy import select\n",
    "from src.graphql.db.session import get_session\n",
    "from src.graphql.scalars.recipe_scalar import NEI_Item, NEI_Fluid"
   ]
  },
  {
   "cell_type": "code",
   "execution_count": 3,
   "metadata": {},
   "outputs": [
    {
     "name": "stdout",
     "output_type": "stream",
     "text": [
      "SELECT item.id, item.image_file_path, item.internal_name, item.item_damage, item.item_id, item.localized_name, item.max_damage, item.max_stack_size, item.mod_id, item.nbt, item.tooltip, item.unlocalized_name, recipe_item_outputs.recipe_id, recipe_item_outputs.item_outputs_value_probability, recipe_item_outputs.item_outputs_value_stack_size, recipe_item_outputs.item_outputs_key, recipe_item_outputs.item_outputs_value_item_id \n",
      "FROM item JOIN recipe_item_outputs ON recipe_item_outputs.item_outputs_value_item_id = item.id \n",
      "WHERE recipe_item_outputs.recipe_id = :recipe_id_1\n"
     ]
    }
   ],
   "source": [
    "# Test joins\n",
    "recipe_id = 'r~--eEYPHsN5GqWygrEHan4A=='\n",
    "\n",
    "# stmt = select(rma.Fluid, rma.RecipeFluidGroup.fluid_inputs_key, rma.FluidGroupFluidStacks.fluid_stacks_amount) \\\n",
    "#     .join(rma.FluidGroupFluidStacks, rma.FluidGroupFluidStacks.fluid_stacks_fluid_id == rma.Fluid.id) \\\n",
    "#     .join(rma.RecipeFluidGroup, rma.RecipeFluidGroup.fluid_inputs_id == rma.FluidGroupFluidStacks.fluid_group_id) \\\n",
    "#     .filter(rma.RecipeFluidGroup.recipe_id == recipe_id)\n",
    "stmt = select(rma.Item, rma.RecipeItemOutputs) \\\n",
    "        .join(rma.RecipeItemOutputs, rma.RecipeItemOutputs.item_outputs_value_item_id == rma.Item.id) \\\n",
    "        .filter(rma.RecipeItemOutputs.recipe_id == recipe_id)\n",
    "print(stmt)"
   ]
  },
  {
   "cell_type": "code",
   "execution_count": 6,
   "metadata": {},
   "outputs": [
    {
     "name": "stdout",
     "output_type": "stream",
     "text": [
      "{'_sa_instance_state': <sqlalchemy.orm.state.InstanceState object at 0x7fb8a8c59c50>, 'item_outputs_value_stack_size': 1, 'item_outputs_value_item_id': 'i~gregtech~gt.metaitem.01~32601', 'item_outputs_value_probability': 1.0, 'recipe_id': 'r~--eEYPHsN5GqWygrEHan4A==', 'item_outputs_key': 0}\n"
     ]
    },
    {
     "ename": "KeyError",
     "evalue": "'item_outputs_value_item_id'",
     "output_type": "error",
     "traceback": [
      "\u001b[0;31m---------------------------------------------------------------------------\u001b[0m",
      "\u001b[0;31mKeyError\u001b[0m                                  Traceback (most recent call last)",
      "File \u001b[0;32m~/miniconda3/envs/py11/lib/python3.11/contextlib.py:222\u001b[0m, in \u001b[0;36m_AsyncGeneratorContextManager.__aexit__\u001b[0;34m(self, typ, value, traceback)\u001b[0m\n\u001b[1;32m    220\u001b[0m     value \u001b[39m=\u001b[39m typ()\n\u001b[1;32m    221\u001b[0m \u001b[39mtry\u001b[39;00m:\n\u001b[0;32m--> 222\u001b[0m     \u001b[39mawait\u001b[39;00m \u001b[39mself\u001b[39m\u001b[39m.\u001b[39mgen\u001b[39m.\u001b[39mathrow(typ, value, traceback)\n\u001b[1;32m    223\u001b[0m \u001b[39mexcept\u001b[39;00m \u001b[39mStopAsyncIteration\u001b[39;00m \u001b[39mas\u001b[39;00m exc:\n\u001b[1;32m    224\u001b[0m     \u001b[39m# Suppress StopIteration *unless* it's the same exception that\u001b[39;00m\n\u001b[1;32m    225\u001b[0m     \u001b[39m# was passed to throw().  This prevents a StopIteration\u001b[39;00m\n\u001b[1;32m    226\u001b[0m     \u001b[39m# raised inside the \"with\" statement from being suppressed.\u001b[39;00m\n\u001b[1;32m    227\u001b[0m     \u001b[39mreturn\u001b[39;00m exc \u001b[39mis\u001b[39;00m \u001b[39mnot\u001b[39;00m value\n",
      "File \u001b[0;32m~/Dropbox/OrderedSetCode/game-optimization/minecraft/webnei2/webnei-backend/src/graphql/db/session.py:25\u001b[0m, in \u001b[0;36mget_session\u001b[0;34m()\u001b[0m\n\u001b[1;32m     23\u001b[0m \u001b[39masync\u001b[39;00m \u001b[39mwith\u001b[39;00m session\u001b[39m.\u001b[39mbegin():\n\u001b[1;32m     24\u001b[0m     \u001b[39mtry\u001b[39;00m:\n\u001b[0;32m---> 25\u001b[0m         \u001b[39myield\u001b[39;00m session\n\u001b[1;32m     26\u001b[0m     \u001b[39mfinally\u001b[39;00m:\n\u001b[1;32m     27\u001b[0m         \u001b[39mawait\u001b[39;00m session\u001b[39m.\u001b[39mclose()\n",
      "Cell \u001b[0;32mIn[6], line 22\u001b[0m\n\u001b[1;32m     20\u001b[0m     findict\u001b[39m.\u001b[39mupdate(_prepORMDict(itemORM))\n\u001b[1;32m     21\u001b[0m     \u001b[39mprint\u001b[39m(itemOutputsORM\u001b[39m.\u001b[39m\u001b[39m__dict__\u001b[39m)\n\u001b[0;32m---> 22\u001b[0m     findict\u001b[39m.\u001b[39mupdate(_prepORMDict(\n\u001b[1;32m     23\u001b[0m         itemOutputsORM,\n\u001b[1;32m     24\u001b[0m         exclude\u001b[39m=\u001b[39;49m[\u001b[39m'\u001b[39;49m\u001b[39mrecipe_id\u001b[39;49m\u001b[39m'\u001b[39;49m, \u001b[39m'\u001b[39;49m\u001b[39mitem_outputs_value_item_id\u001b[39;49m\u001b[39m'\u001b[39;49m],\n\u001b[1;32m     25\u001b[0m         rename\u001b[39m=\u001b[39;49m{\n\u001b[1;32m     26\u001b[0m             \u001b[39m'\u001b[39;49m\u001b[39mitem_outputs_value_stack_size\u001b[39;49m\u001b[39m'\u001b[39;49m: \u001b[39m'\u001b[39;49m\u001b[39mstack_size\u001b[39;49m\u001b[39m'\u001b[39;49m,\n\u001b[1;32m     27\u001b[0m             \u001b[39m'\u001b[39;49m\u001b[39mitem_outputs_value_item_id\u001b[39;49m\u001b[39m'\u001b[39;49m: \u001b[39m'\u001b[39;49m\u001b[39mitem_id\u001b[39;49m\u001b[39m'\u001b[39;49m,\n\u001b[1;32m     28\u001b[0m             \u001b[39m'\u001b[39;49m\u001b[39mitem_outputs_value_probability\u001b[39;49m\u001b[39m'\u001b[39;49m: \u001b[39m'\u001b[39;49m\u001b[39moutput_probability\u001b[39;49m\u001b[39m'\u001b[39;49m,\n\u001b[1;32m     29\u001b[0m             \u001b[39m'\u001b[39;49m\u001b[39mitem_outputs_key\u001b[39;49m\u001b[39m'\u001b[39;49m: \u001b[39m'\u001b[39;49m\u001b[39mposition\u001b[39;49m\u001b[39m'\u001b[39;49m,\n\u001b[1;32m     30\u001b[0m         }\n\u001b[1;32m     31\u001b[0m     ))\n\u001b[1;32m     32\u001b[0m     item_inputs\u001b[39m.\u001b[39mappend(\n\u001b[1;32m     33\u001b[0m         NEI_Item(\u001b[39m*\u001b[39m\u001b[39m*\u001b[39mfindict)\n\u001b[1;32m     34\u001b[0m     )\n\u001b[1;32m     36\u001b[0m \u001b[39m# print(result)\u001b[39;00m\n\u001b[1;32m     37\u001b[0m \u001b[39m# for r in result:\u001b[39;00m\n\u001b[1;32m     38\u001b[0m \u001b[39m#     print(r.__dict__)\u001b[39;00m\n",
      "Cell \u001b[0;32mIn[6], line 8\u001b[0m, in \u001b[0;36m_prepORMDict\u001b[0;34m(item, rename, exclude, include)\u001b[0m\n\u001b[1;32m      6\u001b[0m     d[v] \u001b[39m=\u001b[39m d\u001b[39m.\u001b[39mpop(k)\n\u001b[1;32m      7\u001b[0m \u001b[39mfor\u001b[39;00m k \u001b[39min\u001b[39;00m exclude:\n\u001b[0;32m----> 8\u001b[0m     d\u001b[39m.\u001b[39;49mpop(k)\n\u001b[1;32m      9\u001b[0m d\u001b[39m.\u001b[39mupdate(include)\n\u001b[1;32m     11\u001b[0m \u001b[39mreturn\u001b[39;00m d\n",
      "\u001b[0;31mKeyError\u001b[0m: 'item_outputs_value_item_id'"
     ]
    }
   ],
   "source": [
    "def _prepORMDict(item, rename={}, exclude=[], include={}):\n",
    "    d = dict(item.__dict__)\n",
    "    d.pop('_sa_instance_state')\n",
    "\n",
    "    for k, v in rename.items():\n",
    "        d[v] = d.pop(k)\n",
    "    for k in exclude:\n",
    "        d.pop(k)\n",
    "    d.update(include)\n",
    "    \n",
    "    return d\n",
    "\n",
    "\n",
    "async with get_session() as session:\n",
    "    rows = await session.execute(stmt)\n",
    "    item_inputs = []\n",
    "    for r in rows:\n",
    "        itemORM, itemOutputsORM = r\n",
    "        findict = {}\n",
    "        findict.update(_prepORMDict(itemORM))\n",
    "        print(itemOutputsORM.__dict__)\n",
    "        findict.update(_prepORMDict(\n",
    "            itemOutputsORM,\n",
    "            exclude=['recipe_id', 'item_outputs_value_item_id'],\n",
    "            rename={\n",
    "                'item_outputs_value_stack_size': 'stack_size',\n",
    "                'item_outputs_value_probability': 'output_probability',\n",
    "                'item_outputs_key': 'position',\n",
    "            }\n",
    "        ))\n",
    "        item_inputs.append(\n",
    "            NEI_Item(**findict)\n",
    "        )\n",
    "\n",
    "    # print(result)\n",
    "    # for r in result:\n",
    "    #     print(r.__dict__)\n",
    "\n",
    "    print(item_inputs)"
   ]
  },
  {
   "cell_type": "code",
   "execution_count": null,
   "metadata": {},
   "outputs": [],
   "source": []
  }
 ],
 "metadata": {
  "kernelspec": {
   "display_name": "webnei-backend-kGeD7cND",
   "language": "python",
   "name": "python3"
  },
  "language_info": {
   "codemirror_mode": {
    "name": "ipython",
    "version": 3
   },
   "file_extension": ".py",
   "mimetype": "text/x-python",
   "name": "python",
   "nbconvert_exporter": "python",
   "pygments_lexer": "ipython3",
   "version": "3.11.0"
  },
  "orig_nbformat": 4
 },
 "nbformat": 4,
 "nbformat_minor": 2
}
