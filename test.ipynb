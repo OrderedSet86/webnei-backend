{
 "cells": [
  {
   "cell_type": "code",
   "execution_count": 16,
   "metadata": {},
   "outputs": [],
   "source": [
    "import asyncio\n",
    "import load_env\n",
    "import time\n",
    "import src.graphql.models.recipe_models_autogen as rma\n",
    "from sqlalchemy import select, and_\n",
    "from src.graphql.db.session import get_session\n",
    "from src.graphql.scalars.recipe_scalar import NEI_Item, NEI_Fluid, NEI_Recipe_Dimensions, NEI_GT_Recipe\n",
    "from src.graphql.resolvers.recipe_resolver import _getNEIRecipe, _getNEIGTRecipe"
   ]
  },
  {
   "cell_type": "code",
   "execution_count": 17,
   "metadata": {},
   "outputs": [
    {
     "name": "stdout",
     "output_type": "stream",
     "text": [
      "SELECT recipe_type.id, recipe_type.category, recipe_type.fluid_input_dimension_height, recipe_type.fluid_input_dimension_width, recipe_type.fluid_output_dimension_height, recipe_type.fluid_output_dimension_width, recipe_type.icon_info, recipe_type.item_input_dimension_height, recipe_type.item_input_dimension_width, recipe_type.item_output_dimension_height, recipe_type.item_output_dimension_width, recipe_type.shapeless, recipe_type.type, recipe_type.icon_id, greg_tech_recipe.id AS id_1, greg_tech_recipe.additional_info, greg_tech_recipe.amperage, greg_tech_recipe.duration, greg_tech_recipe.requires_cleanroom, greg_tech_recipe.requires_low_gravity, greg_tech_recipe.voltage, greg_tech_recipe.voltage_tier, greg_tech_recipe.recipe_id \n",
      "FROM recipe_type JOIN recipe ON recipe_type.id = recipe.recipe_type_id JOIN greg_tech_recipe ON greg_tech_recipe.recipe_id = recipe.id \n",
      "WHERE recipe.id = :id_2\n"
     ]
    }
   ],
   "source": [
    "# Test joins\n",
    "recipe_ids = ['r~--eEYPHsN5GqWygrEHan4A==']\n",
    "item_meta = 'i~gregtech~gt.metaitem.01~23019'\n",
    "\n",
    "combined_stmt = select(rma.RecipeType, rma.GregTechRecipe) \\\n",
    "    .join(rma.Recipe, rma.RecipeType.id == rma.Recipe.recipe_type_id) \\\n",
    "    .join(rma.GregTechRecipe, rma.GregTechRecipe.recipe_id == rma.Recipe.id) \\\n",
    "    .filter(and_(rma.Recipe.id == recipe_ids[0]))\n",
    "\n",
    "# print(recipe_type_stmt)\n",
    "# print(gt_info_stmt)\n",
    "print(combined_stmt)"
   ]
  },
  {
   "cell_type": "code",
   "execution_count": 18,
   "metadata": {},
   "outputs": [
    {
     "name": "stdout",
     "output_type": "stream",
     "text": [
      "Query took 0.010071992874145508 seconds\n",
      "{'_sa_instance_state': <sqlalchemy.orm.state.InstanceState object at 0x7f388b828790>, 'requires_cleanroom': False, 'additional_info': '', 'amperage': 1, 'voltage': 30, 'recipe_id': 'r~--eEYPHsN5GqWygrEHan4A==', 'id': 'gtr~r~--eEYPHsN5GqWygrEHan4A==', 'duration': 20, 'requires_low_gravity': False, 'voltage_tier': 'LV'}\n"
     ]
    }
   ],
   "source": [
    "def _prepORMDict(item, rename={}, exclude=[], include={}):\n",
    "    d = dict(item.__dict__)\n",
    "    d.pop('_sa_instance_state')\n",
    "\n",
    "    for k, v in rename.items():\n",
    "        d[v] = d.pop(k)\n",
    "    for k in exclude:\n",
    "        d.pop(k)\n",
    "    d.update(include)\n",
    "    \n",
    "    return d\n",
    "\n",
    "\n",
    "async with get_session() as session:\n",
    "    # awaitables = [session.execute(gt_info_stmt), session.execute(recipe_type_stmt)]\n",
    "    # gtRecipeORM, recipeTypeORM = [x.scalar_one() for x in await asyncio.gather(*awaitables)]\n",
    "    start = time.time()\n",
    "    result = await session.execute(combined_stmt)\n",
    "    recipeTypeORM, gtRecipeORM = result.one()\n",
    "    print(f\"Query took {time.time() - start} seconds\")\n",
    "\n",
    "    print(gtRecipeORM.__dict__)\n"
   ]
  },
  {
   "cell_type": "code",
   "execution_count": null,
   "metadata": {},
   "outputs": [],
   "source": []
  }
 ],
 "metadata": {
  "kernelspec": {
   "display_name": "webnei-backend-kGeD7cND",
   "language": "python",
   "name": "python3"
  },
  "language_info": {
   "codemirror_mode": {
    "name": "ipython",
    "version": 3
   },
   "file_extension": ".py",
   "mimetype": "text/x-python",
   "name": "python",
   "nbconvert_exporter": "python",
   "pygments_lexer": "ipython3",
   "version": "3.11.0"
  },
  "orig_nbformat": 4
 },
 "nbformat": 4,
 "nbformat_minor": 2
}
