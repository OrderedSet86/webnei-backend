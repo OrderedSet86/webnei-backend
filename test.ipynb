{
 "cells": [
  {
   "cell_type": "code",
   "execution_count": 64,
   "metadata": {},
   "outputs": [],
   "source": [
    "import load_env\n",
    "import src.graphql.models.recipe_models_autogen as rma\n",
    "from sqlalchemy import select\n",
    "from src.graphql.db.session import get_session\n",
    "from src.graphql.scalars.recipe_scalar import NEI_Item, NEI_Fluid"
   ]
  },
  {
   "cell_type": "code",
   "execution_count": 63,
   "metadata": {},
   "outputs": [
    {
     "name": "stdout",
     "output_type": "stream",
     "text": [
      "SELECT fluid.id, fluid.density, fluid.fluid_id, fluid.gaseous, fluid.image_file_path, fluid.internal_name, fluid.localized_name, fluid.luminosity, fluid.mod_id, fluid.nbt, fluid.temperature, fluid.unlocalized_name, fluid.viscosity, recipe_fluid_group.fluid_inputs_key, fluid_group_fluid_stacks.fluid_stacks_amount \n",
      "FROM fluid JOIN fluid_group_fluid_stacks ON fluid_group_fluid_stacks.fluid_stacks_fluid_id = fluid.id JOIN recipe_fluid_group ON recipe_fluid_group.fluid_inputs_id = fluid_group_fluid_stacks.fluid_group_id \n",
      "WHERE recipe_fluid_group.recipe_id = :recipe_id_1\n"
     ]
    }
   ],
   "source": [
    "# Test joins\n",
    "recipe_id = 'r~--eEYPHsN5GqWygrEHan4A=='\n",
    "\n",
    "stmt = select(rma.Fluid, rma.RecipeFluidGroup.fluid_inputs_key, rma.FluidGroupFluidStacks.fluid_stacks_amount) \\\n",
    "    .join(rma.FluidGroupFluidStacks, rma.FluidGroupFluidStacks.fluid_stacks_fluid_id == rma.Fluid.id) \\\n",
    "    .join(rma.RecipeFluidGroup, rma.RecipeFluidGroup.fluid_inputs_id == rma.FluidGroupFluidStacks.fluid_group_id) \\\n",
    "    .filter(rma.RecipeFluidGroup.recipe_id == recipe_id)\n",
    "print(stmt)"
   ]
  },
  {
   "cell_type": "code",
   "execution_count": 65,
   "metadata": {},
   "outputs": [
    {
     "name": "stdout",
     "output_type": "stream",
     "text": [
      "[]\n"
     ]
    }
   ],
   "source": [
    "def _prepORMDict(item, rename={}, exclude=[], include={}):\n",
    "    d = dict(item.__dict__)\n",
    "    d.pop('_sa_instance_state')\n",
    "\n",
    "    for k, v in rename.items():\n",
    "        d[v] = d.pop(k)\n",
    "    for k in exclude:\n",
    "        d.pop(k)\n",
    "    d.update(include)\n",
    "    \n",
    "    return d\n",
    "\n",
    "\n",
    "async with get_session() as session:\n",
    "    rows = await session.execute(stmt)\n",
    "    item_inputs = []\n",
    "    for r in rows:\n",
    "        itemORM, position, liters = r\n",
    "        item_inputs.append(\n",
    "            NEI_Fluid(**_prepORMDict(\n",
    "                itemORM,\n",
    "                include={'liters': liters, 'position': position, 'input': True},\n",
    "            ))\n",
    "        )\n",
    "\n",
    "    # print(result)\n",
    "    # for r in result:\n",
    "    #     print(r.__dict__)\n",
    "\n",
    "    print(item_inputs)"
   ]
  },
  {
   "cell_type": "code",
   "execution_count": null,
   "metadata": {},
   "outputs": [],
   "source": []
  }
 ],
 "metadata": {
  "kernelspec": {
   "display_name": "webnei-backend-kGeD7cND",
   "language": "python",
   "name": "python3"
  },
  "language_info": {
   "codemirror_mode": {
    "name": "ipython",
    "version": 3
   },
   "file_extension": ".py",
   "mimetype": "text/x-python",
   "name": "python",
   "nbconvert_exporter": "python",
   "pygments_lexer": "ipython3",
   "version": "3.11.0"
  },
  "orig_nbformat": 4
 },
 "nbformat": 4,
 "nbformat_minor": 2
}
