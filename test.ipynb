{
 "cells": [
  {
   "cell_type": "code",
   "execution_count": 21,
   "metadata": {},
   "outputs": [],
   "source": [
    "import load_env\n",
    "import src.graphql.models.recipe_models_autogen as rma\n",
    "from sqlalchemy import select\n",
    "from src.graphql.db.session import get_session\n",
    "from src.graphql.scalars.recipe_scalar import NEI_Item, NEI_Fluid, NEI_Recipe_Dimensions, NEI_GT_Recipe\n",
    "from src.graphql.resolvers.recipe_resolver import _getNEIRecipe"
   ]
  },
  {
   "cell_type": "code",
   "execution_count": 33,
   "metadata": {},
   "outputs": [
    {
     "name": "stdout",
     "output_type": "stream",
     "text": [
      "SELECT greg_tech_recipe.id, greg_tech_recipe.additional_info, greg_tech_recipe.amperage, greg_tech_recipe.duration, greg_tech_recipe.requires_cleanroom, greg_tech_recipe.requires_low_gravity, greg_tech_recipe.voltage, greg_tech_recipe.voltage_tier, greg_tech_recipe.recipe_id, recipe_type.id AS id_1, recipe_type.category, recipe_type.fluid_input_dimension_height, recipe_type.fluid_input_dimension_width, recipe_type.fluid_output_dimension_height, recipe_type.fluid_output_dimension_width, recipe_type.icon_info, recipe_type.item_input_dimension_height, recipe_type.item_input_dimension_width, recipe_type.item_output_dimension_height, recipe_type.item_output_dimension_width, recipe_type.shapeless, recipe_type.type, recipe_type.icon_id \n",
      "FROM greg_tech_recipe JOIN recipe ON greg_tech_recipe.recipe_id = recipe.id JOIN recipe_type ON recipe.recipe_type_id = recipe_type.id \n",
      "WHERE greg_tech_recipe.recipe_id = :recipe_id_1\n"
     ]
    }
   ],
   "source": [
    "# Test joins\n",
    "recipe_id = 'r~--eEYPHsN5GqWygrEHan4A=='\n",
    "\n",
    "# stmt = select(rma.Item, rma.RecipeItemOutputs) \\\n",
    "#         .join(rma.RecipeItemOutputs, rma.RecipeItemOutputs.item_outputs_value_item_id == rma.Item.id) \\\n",
    "#         .filter(rma.RecipeItemOutputs.recipe_id == recipe_id)\n",
    "stmt = select(rma.GregTechRecipe, rma.RecipeType) \\\n",
    "        .join(rma.Recipe, rma.GregTechRecipe.recipe_id == rma.Recipe.id) \\\n",
    "        .join(rma.RecipeType, rma.Recipe.recipe_type_id == rma.RecipeType.id) \\\n",
    "        .filter(rma.GregTechRecipe.recipe_id == recipe_id)\n",
    "\n",
    "print(stmt)"
   ]
  },
  {
   "cell_type": "code",
   "execution_count": 37,
   "metadata": {},
   "outputs": [
    {
     "ename": "TypeError",
     "evalue": "NEI_GT_Recipe.__init__() missing 1 required keyword-only argument: 'base_recipe'",
     "output_type": "error",
     "traceback": [
      "\u001b[0;31m---------------------------------------------------------------------------\u001b[0m",
      "\u001b[0;31mTypeError\u001b[0m                                 Traceback (most recent call last)",
      "File \u001b[0;32m~/miniconda3/envs/py11/lib/python3.11/contextlib.py:222\u001b[0m, in \u001b[0;36m_AsyncGeneratorContextManager.__aexit__\u001b[0;34m(self, typ, value, traceback)\u001b[0m\n\u001b[1;32m    220\u001b[0m     value \u001b[39m=\u001b[39m typ()\n\u001b[1;32m    221\u001b[0m \u001b[39mtry\u001b[39;00m:\n\u001b[0;32m--> 222\u001b[0m     \u001b[39mawait\u001b[39;00m \u001b[39mself\u001b[39m\u001b[39m.\u001b[39mgen\u001b[39m.\u001b[39mathrow(typ, value, traceback)\n\u001b[1;32m    223\u001b[0m \u001b[39mexcept\u001b[39;00m \u001b[39mStopAsyncIteration\u001b[39;00m \u001b[39mas\u001b[39;00m exc:\n\u001b[1;32m    224\u001b[0m     \u001b[39m# Suppress StopIteration *unless* it's the same exception that\u001b[39;00m\n\u001b[1;32m    225\u001b[0m     \u001b[39m# was passed to throw().  This prevents a StopIteration\u001b[39;00m\n\u001b[1;32m    226\u001b[0m     \u001b[39m# raised inside the \"with\" statement from being suppressed.\u001b[39;00m\n\u001b[1;32m    227\u001b[0m     \u001b[39mreturn\u001b[39;00m exc \u001b[39mis\u001b[39;00m \u001b[39mnot\u001b[39;00m value\n",
      "File \u001b[0;32m~/Dropbox/OrderedSetCode/game-optimization/minecraft/webnei2/webnei-backend/src/graphql/db/session.py:25\u001b[0m, in \u001b[0;36mget_session\u001b[0;34m()\u001b[0m\n\u001b[1;32m     23\u001b[0m \u001b[39masync\u001b[39;00m \u001b[39mwith\u001b[39;00m session\u001b[39m.\u001b[39mbegin():\n\u001b[1;32m     24\u001b[0m     \u001b[39mtry\u001b[39;00m:\n\u001b[0;32m---> 25\u001b[0m         \u001b[39myield\u001b[39;00m session\n\u001b[1;32m     26\u001b[0m     \u001b[39mfinally\u001b[39;00m:\n\u001b[1;32m     27\u001b[0m         \u001b[39mawait\u001b[39;00m session\u001b[39m.\u001b[39mclose()\n",
      "Cell \u001b[0;32mIn[37], line 44\u001b[0m\n\u001b[1;32m     37\u001b[0m         \u001b[39mfor\u001b[39;00m direction \u001b[39min\u001b[39;00m [\u001b[39m'\u001b[39m\u001b[39minput\u001b[39m\u001b[39m'\u001b[39m, \u001b[39m'\u001b[39m\u001b[39moutput\u001b[39m\u001b[39m'\u001b[39m]:\n\u001b[1;32m     38\u001b[0m             findict[\u001b[39mf\u001b[39m\u001b[39m'\u001b[39m\u001b[39m{\u001b[39;00msingle_type\u001b[39m}\u001b[39;00m\u001b[39m_\u001b[39m\u001b[39m{\u001b[39;00mdirection\u001b[39m}\u001b[39;00m\u001b[39m_dims\u001b[39m\u001b[39m'\u001b[39m] \u001b[39m=\u001b[39m NEI_Recipe_Dimensions(\n\u001b[1;32m     39\u001b[0m                 height \u001b[39m=\u001b[39m findict\u001b[39m.\u001b[39mpop(\u001b[39mf\u001b[39m\u001b[39m'\u001b[39m\u001b[39m{\u001b[39;00msingle_type\u001b[39m}\u001b[39;00m\u001b[39m_\u001b[39m\u001b[39m{\u001b[39;00mdirection\u001b[39m}\u001b[39;00m\u001b[39m_dimension_height\u001b[39m\u001b[39m'\u001b[39m),\n\u001b[1;32m     40\u001b[0m                 width \u001b[39m=\u001b[39m findict\u001b[39m.\u001b[39mpop(\u001b[39mf\u001b[39m\u001b[39m'\u001b[39m\u001b[39m{\u001b[39;00msingle_type\u001b[39m}\u001b[39;00m\u001b[39m_\u001b[39m\u001b[39m{\u001b[39;00mdirection\u001b[39m}\u001b[39;00m\u001b[39m_dimension_width\u001b[39m\u001b[39m'\u001b[39m),\n\u001b[1;32m     41\u001b[0m             )\n\u001b[1;32m     43\u001b[0m     gt_recipes\u001b[39m.\u001b[39mappend(\n\u001b[0;32m---> 44\u001b[0m         NEI_GT_Recipe(\u001b[39m*\u001b[39;49m\u001b[39m*\u001b[39;49mfindict)\n\u001b[1;32m     45\u001b[0m     )\n\u001b[1;32m     47\u001b[0m \u001b[39m# print(result)\u001b[39;00m\n\u001b[1;32m     48\u001b[0m \u001b[39m# for r in result:\u001b[39;00m\n\u001b[1;32m     49\u001b[0m \u001b[39m#     print(r.__dict__)\u001b[39;00m\n\u001b[1;32m     51\u001b[0m \u001b[39mprint\u001b[39m(gt_recipes)\n",
      "\u001b[0;31mTypeError\u001b[0m: NEI_GT_Recipe.__init__() missing 1 required keyword-only argument: 'base_recipe'"
     ]
    }
   ],
   "source": [
    "def _prepORMDict(item, rename={}, exclude=[], include={}):\n",
    "    d = dict(item.__dict__)\n",
    "    d.pop('_sa_instance_state')\n",
    "\n",
    "    for k, v in rename.items():\n",
    "        d[v] = d.pop(k)\n",
    "    for k in exclude:\n",
    "        d.pop(k)\n",
    "    d.update(include)\n",
    "    \n",
    "    return d\n",
    "\n",
    "\n",
    "async with get_session() as session:\n",
    "    rows = await session.execute(stmt)\n",
    "    gt_recipes = []\n",
    "    for r in rows:\n",
    "        gtRecipeORM, recipeTypeORM = r\n",
    "        findict = _prepORMDict(\n",
    "            recipeTypeORM,\n",
    "            rename={\n",
    "                'type': 'localized_machine_name',\n",
    "            },\n",
    "            exclude = [\n",
    "                'category', # They're all \"gregtech\"\n",
    "                'id'\n",
    "            ],\n",
    "        )\n",
    "        findict.update(_prepORMDict(\n",
    "            gtRecipeORM,\n",
    "            rename = {\n",
    "                'duration': 'duration_ticks',\n",
    "            },\n",
    "            exclude = ['id'],\n",
    "        ))\n",
    "        for single_type in ['item', 'fluid']:\n",
    "            for direction in ['input', 'output']:\n",
    "                findict[f'{single_type}_{direction}_dims'] = NEI_Recipe_Dimensions(\n",
    "                    height = findict.pop(f'{single_type}_{direction}_dimension_height'),\n",
    "                    width = findict.pop(f'{single_type}_{direction}_dimension_width'),\n",
    "                )\n",
    "        findict['base_recipe'] = await _getNEIRecipe(session, recipe_id)\n",
    "\n",
    "        gt_recipes.append(\n",
    "            NEI_GT_Recipe(**findict)\n",
    "        )\n",
    "\n",
    "    # print(result)\n",
    "    # for r in result:\n",
    "    #     print(r.__dict__)\n",
    "\n",
    "    print(gt_recipes)"
   ]
  },
  {
   "cell_type": "code",
   "execution_count": null,
   "metadata": {},
   "outputs": [],
   "source": []
  }
 ],
 "metadata": {
  "kernelspec": {
   "display_name": "webnei-backend-kGeD7cND",
   "language": "python",
   "name": "python3"
  },
  "language_info": {
   "codemirror_mode": {
    "name": "ipython",
    "version": 3
   },
   "file_extension": ".py",
   "mimetype": "text/x-python",
   "name": "python",
   "nbconvert_exporter": "python",
   "pygments_lexer": "ipython3",
   "version": "3.11.0"
  },
  "orig_nbformat": 4
 },
 "nbformat": 4,
 "nbformat_minor": 2
}
