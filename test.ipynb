{
 "cells": [
  {
   "cell_type": "code",
   "execution_count": 66,
   "metadata": {},
   "outputs": [],
   "source": [
    "import asyncio\n",
    "import load_env\n",
    "import src.graphql.models.recipe_models_autogen as rma\n",
    "from sqlalchemy import select\n",
    "from src.graphql.db.session import get_session\n",
    "from src.graphql.scalars.recipe_scalar import NEI_Item, NEI_Fluid, NEI_Recipe_Dimensions, NEI_GT_Recipe\n",
    "from src.graphql.resolvers.recipe_resolver import _getNEIRecipe, _getNEIGTRecipe"
   ]
  },
  {
   "cell_type": "code",
   "execution_count": 69,
   "metadata": {},
   "outputs": [
    {
     "name": "stdout",
     "output_type": "stream",
     "text": [
      "SELECT recipe.id, recipe_type.category \n",
      "FROM recipe_type JOIN recipe ON recipe.recipe_type_id = recipe_type.id \n",
      "WHERE recipe.id IN (__[POSTCOMPILE_id_1]) AND recipe_type.category = :category_1\n"
     ]
    }
   ],
   "source": [
    "# Test joins\n",
    "recipe_ids = ['r~--eEYPHsN5GqWygrEHan4A==']\n",
    "\n",
    "# stmt = select(rma.Recipe.id, rma.RecipeType.category) \\\n",
    "#         .join(rma.Recipe, rma.Recipe.recipe_type_id == rma.RecipeType.id) \\\n",
    "#         .filter(rma.Recipe.id.in_(recipe_ids)) \\\n",
    "#         .where(rma.RecipeType.category == 'gregtech')\n",
    "stmt = select(rma.RecipeItemGroup.id) \\\n",
    "        .join(rma.RecipeItemGroup, rma.RecipeItemGroup.item_inputs_id == rma.ItemGroupItemStacks.item_group_id) \\\n",
    "\n",
    "print(stmt)"
   ]
  },
  {
   "cell_type": "code",
   "execution_count": 70,
   "metadata": {},
   "outputs": [
    {
     "name": "stdout",
     "output_type": "stream",
     "text": [
      "[NEI_GT_Recipe(recipe_id='r~--eEYPHsN5GqWygrEHan4A==', base_recipe=NEI_Base_Recipe(recipe_id='r~--eEYPHsN5GqWygrEHan4A==', input_items=[NEI_Item(id='i~gregtech~gt.metaitem.01~23019', item_id=7197, position=1, stack_size=1, image_file_path='item/gregtech/gt.metaitem.01~23019.png', internal_name='gt.metaitem.01', item_damage=23019, localized_name='Aluminium Rod', max_damage=0, max_stack_size=64, mod_id='gregtech', nbt='', tooltip='Aluminium Rod (#7197/23019)\\\\u000agregtech:gt.metaitem.01\\\\u000aAl', unlocalized_name='gt.metaitem.01.23019', input=True, output_probability=-1.0), NEI_Item(id='i~gregtech~gt.metaitem.01~23355', item_id=7197, position=0, stack_size=1, image_file_path='item/gregtech/gt.metaitem.01~23355.png', internal_name='gt.metaitem.01', item_damage=23355, localized_name='Magnetic Steel Rod', max_damage=0, max_stack_size=64, mod_id='gregtech', nbt='', tooltip='Magnetic Steel Rod (#7197/23355)\\\\u000agregtech:gt.metaitem.01\\\\u000aFe\\\\u2085\\\\u2080C', unlocalized_name='gt.metaitem.01.23355', input=True, output_probability=-1.0), NEI_Item(id='i~gregtech~gt.blockmachines~1341', item_id=2086, position=2, stack_size=4, image_file_path='item/gregtech/gt.blockmachines~1341.png', internal_name='gt.blockmachines', item_damage=1341, localized_name='2x Cupronickel Wire', max_damage=0, max_stack_size=64, mod_id='gregtech', nbt='', tooltip='2x Cupronickel Wire (#2086/1341)\\\\u000agregtech:gt.blockmachines\\\\u000aMax Voltage:  128 (MV)\\\\u000aMax Amperage:  4\\\\u000aLoss/Meter/Ampere:  6 EU-Volt', unlocalized_name='gt.blockmachines.wire.cupronickel.02', input=True, output_probability=-1.0), NEI_Item(id='i~gregtech~gt.blockmachines~1366', item_id=2086, position=3, stack_size=2, image_file_path='item/gregtech/gt.blockmachines~1366.png', internal_name='gt.blockmachines', item_damage=1366, localized_name='1x Copper Cable', max_damage=0, max_stack_size=64, mod_id='gregtech', nbt='', tooltip='1x Copper Cable (#2086/1366)\\\\u000agregtech:gt.blockmachines\\\\u000aMax Voltage:  128 (MV)\\\\u000aMax Amperage:  1\\\\u000aLoss/Meter/Ampere:  2 EU-Volt', unlocalized_name='gt.blockmachines.cable.copper.01', input=True, output_probability=-1.0)], input_fluids=[], output_items=[NEI_Item(id='i~gregtech~gt.metaitem.01~32601', item_id=7197, position=0, stack_size=1, image_file_path='item/gregtech/gt.metaitem.01~32601.png', internal_name='gt.metaitem.01', item_damage=32601, localized_name='Electric Motor (MV)', max_damage=0, max_stack_size=64, mod_id='gregtech', nbt='', tooltip='Electric Motor (MV) (#7197/32601)\\\\u000agregtech:gt.metaitem.01', unlocalized_name='gt.metaitem.01.32601', input=False, output_probability=1.0)], output_fluids=[]), localized_machine_name='Assembler (LV)', fluid_input_dims=NEI_Recipe_Dimensions(height=1, width=1), fluid_output_dims=NEI_Recipe_Dimensions(height=0, width=0), item_input_dims=NEI_Recipe_Dimensions(height=3, width=3), item_output_dims=NEI_Recipe_Dimensions(height=1, width=1), icon_info='LV', icon_id='i~gregtech~gt.blockmachines~213', shapeless=True, additional_info='', amperage=1, duration_ticks=20, requires_cleanroom=False, requires_low_gravity=False, voltage=30, voltage_tier='LV')]\n"
     ]
    }
   ],
   "source": [
    "def _prepORMDict(item, rename={}, exclude=[], include={}):\n",
    "    d = dict(item.__dict__)\n",
    "    d.pop('_sa_instance_state')\n",
    "\n",
    "    for k, v in rename.items():\n",
    "        d[v] = d.pop(k)\n",
    "    for k in exclude:\n",
    "        d.pop(k)\n",
    "    d.update(include)\n",
    "    \n",
    "    return d\n",
    "\n",
    "\n",
    "async with get_session() as session:\n",
    "    rows = await session.execute(stmt)\n",
    "    awaitables = [_getNEIGTRecipe(session, recipe_id) for recipe_id, _ in rows]\n",
    "    gt_recipes = await asyncio.gather(*awaitables)\n",
    "\n",
    "print(gt_recipes)\n",
    "\n",
    "    # gt_recipes = []\n",
    "    # for r in rows:\n",
    "    #     gtRecipeORM, recipeTypeORM = r\n",
    "    #     findict = _prepORMDict(\n",
    "    #         recipeTypeORM,\n",
    "    #         rename={\n",
    "    #             'type': 'localized_machine_name',\n",
    "    #         },\n",
    "    #         exclude = [\n",
    "    #             'category', # They're all \"gregtech\"\n",
    "    #             'id'\n",
    "    #         ],\n",
    "    #     )\n",
    "    #     findict.update(_prepORMDict(\n",
    "    #         gtRecipeORM,\n",
    "    #         rename = {\n",
    "    #             'duration': 'duration_ticks',\n",
    "    #         },\n",
    "    #         exclude = ['id'],\n",
    "    #     ))\n",
    "    #     for single_type in ['item', 'fluid']:\n",
    "    #         for direction in ['input', 'output']:\n",
    "    #             findict[f'{single_type}_{direction}_dims'] = NEI_Recipe_Dimensions(\n",
    "    #                 height = findict.pop(f'{single_type}_{direction}_dimension_height'),\n",
    "    #                 width = findict.pop(f'{single_type}_{direction}_dimension_width'),\n",
    "    #             )\n",
    "    #     findict['base_recipe'] = await _getNEIRecipe(session, recipe_id)\n",
    "\n",
    "    #     gt_recipes.append(\n",
    "    #         NEI_GT_Recipe(**findict)\n",
    "    #     )\n",
    "\n",
    "    # print(result)\n",
    "    # for r in result:\n",
    "    #     print(r.__dict__)\n",
    "\n",
    "    # print(gt_recipes)\n",
    "    # print(len(gt_recipes))"
   ]
  },
  {
   "cell_type": "code",
   "execution_count": null,
   "metadata": {},
   "outputs": [],
   "source": []
  }
 ],
 "metadata": {
  "kernelspec": {
   "display_name": "webnei-backend-kGeD7cND",
   "language": "python",
   "name": "python3"
  },
  "language_info": {
   "codemirror_mode": {
    "name": "ipython",
    "version": 3
   },
   "file_extension": ".py",
   "mimetype": "text/x-python",
   "name": "python",
   "nbconvert_exporter": "python",
   "pygments_lexer": "ipython3",
   "version": "3.11.0"
  },
  "orig_nbformat": 4
 },
 "nbformat": 4,
 "nbformat_minor": 2
}
