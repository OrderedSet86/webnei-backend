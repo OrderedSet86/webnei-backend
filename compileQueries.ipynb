{
 "cells": [
  {
   "cell_type": "code",
   "execution_count": 21,
   "metadata": {},
   "outputs": [],
   "source": [
    "import asyncpg\n",
    "from sqlalchemy import select, and_\n",
    "from sqlalchemy.dialects import postgresql\n",
    "\n",
    "from src.graphql.db.asyncpg import createAsyncpgConn\n",
    "import src.graphql.models.recipe_models_autogen as rma"
   ]
  },
  {
   "cell_type": "code",
   "execution_count": 44,
   "metadata": {},
   "outputs": [
    {
     "name": "stdout",
     "output_type": "stream",
     "text": [
      "SELECT recipe_item_inputs_items.recipe_id \n",
      "FROM recipe_item_inputs_items \n",
      "WHERE recipe_item_inputs_items.item_inputs_items_id = 'i~gregtech~gt.metaitem.01~23019'\n"
     ]
    }
   ],
   "source": [
    "rec_id = 'r~--eEYPHsN5GqWygrEHan4A=='\n",
    "recipe_ids = ['r~--eEYPHsN5GqWygrEHan4A==', 'r~--eEYPHsN5GqWygrEHan4A==']\n",
    "single_id = 'i~gregtech~gt.metaitem.01~23019'\n",
    "if True:\n",
    "    stmt = select(rma.RecipeItemInputsItems.recipe_id) \\\n",
    "        .filter(rma.RecipeItemInputsItems.item_inputs_items_id == single_id)\n",
    "compiled_query = stmt.compile(\n",
    "    dialect=postgresql.dialect(),\n",
    "    compile_kwargs={\"literal_binds\": True},\n",
    ")\n",
    "print(str(compiled_query))"
   ]
  },
  {
   "cell_type": "code",
   "execution_count": 42,
   "metadata": {},
   "outputs": [
    {
     "name": "stdout",
     "output_type": "stream",
     "text": [
      "[]\n"
     ]
    }
   ],
   "source": [
    "single_id_type = 'item'\n",
    "single_id = 'i~gregtech~gt.metaitem.01~23019'\n",
    "\n",
    "stmt = str(compiled_query)\n",
    "stmt = f\"\"\"\n",
    "SELECT recipe_item_inputs_items.recipe_id \n",
    "FROM recipe_item_inputs_items\n",
    "WHERE recipe_item_inputs_items.recipe_id = '{single_id}'\n",
    "\"\"\"\n",
    "\n",
    "conn = await createAsyncpgConn()\n",
    "rows = await conn.fetch(stmt)\n",
    "# print([x['recipe_id'] for x in rows])\n",
    "print(rows)"
   ]
  },
  {
   "cell_type": "code",
   "execution_count": 18,
   "metadata": {},
   "outputs": [
    {
     "data": {
      "text/plain": [
       "{'id': 'rt~gregtech~assembler~LV',\n",
       " 'category': 'gregtech',\n",
       " 'fluid_input_dimension_height': 1,\n",
       " 'fluid_input_dimension_width': 1,\n",
       " 'fluid_output_dimension_height': 0,\n",
       " 'fluid_output_dimension_width': 0,\n",
       " 'icon_info': 'LV',\n",
       " 'item_input_dimension_height': 3,\n",
       " 'item_input_dimension_width': 3,\n",
       " 'item_output_dimension_height': 1,\n",
       " 'item_output_dimension_width': 1,\n",
       " 'shapeless': True,\n",
       " 'type': 'Assembler (LV)',\n",
       " 'icon_id': 'i~gregtech~gt.blockmachines~213',\n",
       " 'greg_tech_recipe_id': 'gtr~r~--eEYPHsN5GqWygrEHan4A==',\n",
       " 'additional_info': '',\n",
       " 'amperage': 1,\n",
       " 'duration': 20,\n",
       " 'requires_cleanroom': False,\n",
       " 'requires_low_gravity': False,\n",
       " 'voltage': 30,\n",
       " 'voltage_tier': 'LV',\n",
       " 'recipe_id': 'r~--eEYPHsN5GqWygrEHan4A=='}"
      ]
     },
     "execution_count": 18,
     "metadata": {},
     "output_type": "execute_result"
    }
   ],
   "source": [
    "dict(rows[0])"
   ]
  },
  {
   "cell_type": "code",
   "execution_count": null,
   "metadata": {},
   "outputs": [],
   "source": []
  }
 ],
 "metadata": {
  "kernelspec": {
   "display_name": "webnei-backend-kGeD7cND",
   "language": "python",
   "name": "python3"
  },
  "language_info": {
   "codemirror_mode": {
    "name": "ipython",
    "version": 3
   },
   "file_extension": ".py",
   "mimetype": "text/x-python",
   "name": "python",
   "nbconvert_exporter": "python",
   "pygments_lexer": "ipython3",
   "version": "3.11.0"
  },
  "orig_nbformat": 4
 },
 "nbformat": 4,
 "nbformat_minor": 2
}
